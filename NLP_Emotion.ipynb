{
 "cells": [
  {
   "cell_type": "code",
   "execution_count": 1,
   "metadata": {},
   "outputs": [],
   "source": [
    "import os\n",
    "\n",
    "import tensorflow as tf\n",
    "import numpy as np\n",
    "\n",
    "import re\n",
    "import string\n",
    "from random import randint"
   ]
  },
  {
   "cell_type": "code",
   "execution_count": 2,
   "metadata": {},
   "outputs": [],
   "source": [
    "#for text data crawled from websites (remove tag like <tbody>)\n",
    "def remove_tags(text):\n",
    "    re_tags = re.compile(r'<[^>]+>')\n",
    "    return re_tags.sub('',text)"
   ]
  },
  {
   "cell_type": "code",
   "execution_count": 3,
   "metadata": {},
   "outputs": [],
   "source": [
    "def read_files(filetype):\n",
    "    path = \"data_emotion/\"\n",
    "    file_list = []\n",
    "    \n",
    "    positive_path = path + filetype + \"/pos/\"\n",
    "    for file in os.listdir(positive_path):\n",
    "        file_list += [positive_path + file]\n",
    "    pos_files_num = len(file_list)\n",
    "    \n",
    "    negative_path = path + filetype + \"/neg/\"\n",
    "    for file in os.listdir(negative_path):\n",
    "        file_list += [negative_path + file]\n",
    "    neg_files_num = len(file_list) - pos_files_num\n",
    "    \n",
    "    all_labels = ([[1,0]]*pos_files_num + [[0,1]]*neg_files_num)\n",
    "    \n",
    "    all_texts = []\n",
    "    for file in file_list:\n",
    "        with open(file,encoding = 'utf8') as file_input:\n",
    "            all_texts += [remove_tags(\"\".join(file_input.readlines()))] \n",
    "    \n",
    "    return all_labels, all_texts    "
   ]
  },
  {
   "cell_type": "code",
   "execution_count": 4,
   "metadata": {},
   "outputs": [],
   "source": [
    "train_labels, train_texts = read_files(\"train\")\n",
    "test_labels, test_texts = read_files(\"test\")"
   ]
  },
  {
   "cell_type": "code",
   "execution_count": 5,
   "metadata": {},
   "outputs": [
    {
     "data": {
      "text/plain": [
       "['marvellous excellent perfect\\n',\n",
       " 'wonderful good\\n',\n",
       " 'genius\\n',\n",
       " 'good nice enough excellent',\n",
       " 'nice enough\\n',\n",
       " 'good\\n',\n",
       " 'terrible',\n",
       " 'awful not good',\n",
       " 'stupid bad',\n",
       " 'bad enough',\n",
       " 'stupid',\n",
       " 'bad']"
      ]
     },
     "execution_count": 5,
     "metadata": {},
     "output_type": "execute_result"
    }
   ],
   "source": [
    "train_texts"
   ]
  },
  {
   "cell_type": "code",
   "execution_count": 6,
   "metadata": {},
   "outputs": [],
   "source": [
    "import keras"
   ]
  },
  {
   "cell_type": "code",
   "execution_count": 7,
   "metadata": {},
   "outputs": [],
   "source": [
    "#create related dictionary \"Token\"\n",
    "token = keras.preprocessing.text.Tokenizer(num_words = 4000)\n",
    "token.fit_on_texts(train_texts)\n",
    "#transfer texts into numbers\n",
    "train_sequences = token.texts_to_sequences(train_texts)\n",
    "test_sequences = token.texts_to_sequences(test_texts)\n",
    "#let the length of transferred texts equal to 400\n",
    "x_train = keras.preprocessing.sequence.pad_sequences(train_sequences, padding = 'post', truncating = 'post', maxlen = 400)\n",
    "x_test = keras.preprocessing.sequence.pad_sequences(test_sequences, padding = 'post', truncating = 'post', maxlen = 400)\n",
    "y_train = np.array(train_labels)\n",
    "y_test = np.array(test_labels)"
   ]
  },
  {
   "cell_type": "code",
   "execution_count": null,
   "metadata": {},
   "outputs": [],
   "source": []
  },
  {
   "cell_type": "code",
   "execution_count": 8,
   "metadata": {},
   "outputs": [],
   "source": [
    "#settings\n",
    "model = keras.models.Sequential()\n",
    "model.add(keras.layers.Embedding(output_dim = 32, input_dim = 4000, input_length = 400))\n",
    "model.add(keras.layers.Flatten())\n",
    "model.add(keras.layers.Dense(units = 256, activation = 'relu'))\n",
    "model.add(keras.layers.Dropout(0.3))\n",
    "model.add(keras.layers.Dense(units = 2, activation = 'softmax'))"
   ]
  },
  {
   "cell_type": "code",
   "execution_count": null,
   "metadata": {},
   "outputs": [],
   "source": [
    "model.compile(optimizer = 'adam', loss = 'categorical_crossentropy', metrics = ['accuracy'])\n",
    "history = model.fit(x_train, y_train, validation_split = 0.2, epochs = 10, batch_size = 1, verbose = 1)"
   ]
  },
  {
   "cell_type": "code",
   "execution_count": null,
   "metadata": {},
   "outputs": [],
   "source": [
    "test_loss, test_acc = model.evaluate(x_test, y_test, verbose = 1)"
   ]
  },
  {
   "cell_type": "code",
   "execution_count": null,
   "metadata": {},
   "outputs": [],
   "source": [
    "review_text = \"good nice enough\"\n",
    "input_seq = token.texts_to_sequences([review_text])\n",
    "pad_input_seq = keras.preprocessing.sequence.pad_sequences(input_seq, padding = 'post', truncating = 'post', maxlen = 400)\n",
    "pred = model.predict(pad_input_seq)"
   ]
  },
  {
   "cell_type": "code",
   "execution_count": null,
   "metadata": {},
   "outputs": [],
   "source": [
    "pred"
   ]
  },
  {
   "cell_type": "code",
   "execution_count": null,
   "metadata": {},
   "outputs": [],
   "source": []
  }
 ],
 "metadata": {
  "kernelspec": {
   "display_name": "Python 3",
   "language": "python",
   "name": "python3"
  },
  "language_info": {
   "codemirror_mode": {
    "name": "ipython",
    "version": 3
   },
   "file_extension": ".py",
   "mimetype": "text/x-python",
   "name": "python",
   "nbconvert_exporter": "python",
   "pygments_lexer": "ipython3",
   "version": "3.8.5"
  }
 },
 "nbformat": 4,
 "nbformat_minor": 4
}
