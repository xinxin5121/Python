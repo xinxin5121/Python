{
 "cells": [
  {
   "cell_type": "code",
   "execution_count": 39,
   "id": "seventh-costs",
   "metadata": {},
   "outputs": [],
   "source": [
    "dictionary = {'a':{'b':{'c':{'x':1,'y':2},'d':3}},'e':{'f':4}}\n",
    "\n",
    "class SlashDict:\n",
    "    def __init__(self,dic):\n",
    "        self.dic = dic\n",
    "        \n",
    "    def __getitem__(self,key):\n",
    "        ls = key.split(\"/\")\n",
    "        dic_tmp = self.dic\n",
    "        try:\n",
    "            for i in ls:\n",
    "                dic_tmp = dic_tmp[i]\n",
    "            return dic_tmp \n",
    "        except:\n",
    "            return(\"wrong keys\")\n",
    "            \n",
    "    def pop(self,key):     \n",
    "        pass\n",
    "        \n",
    "        \n",
    "    def deep_keys(self):\n",
    "        pass\n",
    "    \n",
    "sd = SlashDict(dictionary)"
   ]
  },
  {
   "cell_type": "code",
   "execution_count": 41,
   "id": "numerous-recommendation",
   "metadata": {},
   "outputs": [
    {
     "data": {
      "text/plain": [
       "{'x': 1, 'y': 2}"
      ]
     },
     "execution_count": 41,
     "metadata": {},
     "output_type": "execute_result"
    }
   ],
   "source": [
    "sd['a/b/c']"
   ]
  },
  {
   "cell_type": "code",
   "execution_count": 53,
   "id": "aggregate-investigator",
   "metadata": {},
   "outputs": [
    {
     "name": "stdout",
     "output_type": "stream",
     "text": [
      "2\n",
      "{'b': {'c': {'x': 1, 'y': 2}, 'd': 3}}\n",
      "{'f': 4}\n"
     ]
    }
   ],
   "source": [
    "print(len(dictionary.keys()))\n",
    "for key in dictionary.keys():\n",
    "    print(dictionary[key])\n",
    "    if isinstance(dictionary[key], dict):\n",
    "        pass"
   ]
  }
 ],
 "metadata": {
  "kernelspec": {
   "display_name": "Python 3",
   "language": "python",
   "name": "python3"
  },
  "language_info": {
   "codemirror_mode": {
    "name": "ipython",
    "version": 3
   },
   "file_extension": ".py",
   "mimetype": "text/x-python",
   "name": "python",
   "nbconvert_exporter": "python",
   "pygments_lexer": "ipython3",
   "version": "3.8.8"
  }
 },
 "nbformat": 4,
 "nbformat_minor": 5
}
